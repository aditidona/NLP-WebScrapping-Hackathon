{
 "cells": [
  {
   "cell_type": "code",
   "execution_count": 94,
   "metadata": {},
   "outputs": [],
   "source": [
    "import requests\n",
    "from bs4 import BeautifulSoup as bs\n",
    "import time"
   ]
  },
  {
   "cell_type": "code",
   "execution_count": 59,
   "metadata": {},
   "outputs": [],
   "source": [
    "def get_all_a_tags(web_link):\n",
    "    data=requests.get('https://www.india.gov.in/')\n",
    "    d=bs(data.text,'html.parser')\n",
    "    temp=d.find_all('a')\n",
    "    return temp"
   ]
  },
  {
   "cell_type": "code",
   "execution_count": 79,
   "metadata": {},
   "outputs": [],
   "source": [
    "def get_all_deep_links(atags):\n",
    "    deep_links=[]\n",
    "    for i in atags:\n",
    "        if not i['href'].startswith('http') and not i['href'].find('javascript'):\n",
    "            deep_links.append('https://www.india.gov.in'+i['href'])\n",
    "        else:\n",
    "            deep_links.append(i['href'])\n",
    "    return deep_links"
   ]
  },
  {
   "cell_type": "code",
   "execution_count": 96,
   "metadata": {},
   "outputs": [],
   "source": [
    "def get_one_page_data(website):\n",
    "    try:\n",
    "        web=requests.get(website)\n",
    "        data=bs(web.text,'html.parser')\n",
    "        req=data.get_text()\n",
    "        return req\n",
    "    except:\n",
    "        return \"\""
   ]
  },
  {
   "cell_type": "code",
   "execution_count": 97,
   "metadata": {},
   "outputs": [],
   "source": [
    "def get_data(website):\n",
    "    web=requests.get(website)\n",
    "    data=bs(web.text,'html.parser')\n",
    "    temp=data.find_all('a')\n",
    "    links=[]\n",
    "    for i in temp:\n",
    "        if not i['href'].startswith('http'):\n",
    "            links.append('https://www.india.gov.in'+i['href'])\n",
    "        else:\n",
    "            links.append(i['href'])\n",
    "\n",
    "    # find all a tags\n",
    "    atags=[]        \n",
    "    for i in links:\n",
    "        ans=get_all_a_tags(i)\n",
    "        for i in ans:\n",
    "            atags.append(i)\n",
    "            \n",
    "    deep_links=get_all_deep_links(atags)\n",
    "        \n",
    "    data=[]\n",
    "    for i in deep_links:\n",
    "        ans=get_one_page_data(i)\n",
    "        if(ans!=\"\"):\n",
    "            data.append(ans)\n",
    "        \n",
    "    return data\n",
    "        "
   ]
  },
  {
   "cell_type": "code",
   "execution_count": null,
   "metadata": {},
   "outputs": [],
   "source": [
    "web_links=['https://www.india.gov.in','https://uaecabinet.ae']\n",
    "data=[]\n",
    "start=time.time()\n",
    "for i in web_links:\n",
    "    ans=get_data(i)\n",
    "    print(ans)\n",
    "    data.append(ans)\n",
    "end=time.time()\n",
    "print(\"Time:\",end-start)"
   ]
  },
  {
   "cell_type": "code",
   "execution_count": null,
   "metadata": {},
   "outputs": [],
   "source": []
  },
  {
   "cell_type": "code",
   "execution_count": null,
   "metadata": {},
   "outputs": [],
   "source": []
  }
 ],
 "metadata": {
  "kernelspec": {
   "display_name": "Python 3",
   "language": "python",
   "name": "python3"
  },
  "language_info": {
   "codemirror_mode": {
    "name": "ipython",
    "version": 3
   },
   "file_extension": ".py",
   "mimetype": "text/x-python",
   "name": "python",
   "nbconvert_exporter": "python",
   "pygments_lexer": "ipython3",
   "version": "3.7.4"
  }
 },
 "nbformat": 4,
 "nbformat_minor": 4
}
